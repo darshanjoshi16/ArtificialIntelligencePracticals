{
  "nbformat": 4,
  "nbformat_minor": 0,
  "metadata": {
    "colab": {
      "name": "ML_Practical_1_Dictionary_Tutorial.ipynb",
      "provenance": [],
      "collapsed_sections": [],
      "authorship_tag": "ABX9TyPSVgxnbIoG/9v7K3EpQmtn",
      "include_colab_link": true
    },
    "kernelspec": {
      "name": "python3",
      "display_name": "Python 3"
    },
    "language_info": {
      "name": "python"
    }
  },
  "cells": [
    {
      "cell_type": "markdown",
      "metadata": {
        "id": "view-in-github",
        "colab_type": "text"
      },
      "source": [
        "<a href=\"https://colab.research.google.com/github/darshanjoshi16/ArtificialIntelligencePracticals/blob/main/Practical%201/ML_Practical_1_Dictionary_Tutorial.ipynb\" target=\"_parent\"><img src=\"https://colab.research.google.com/assets/colab-badge.svg\" alt=\"Open In Colab\"/></a>"
      ]
    },
    {
      "cell_type": "markdown",
      "source": [
        "# **Dictionary Tutorial**"
      ],
      "metadata": {
        "id": "z-4jjfXB4E9n"
      }
    },
    {
      "cell_type": "markdown",
      "source": [
        "1. **Create the nested dictionary as mentioned below. Write a python program to\n",
        "print each element using a key (index).**"
      ],
      "metadata": {
        "id": "G3jrdYd74Nz3"
      }
    },
    {
      "cell_type": "code",
      "source": [
        "#created the dictionary\n",
        "people = {1: {'name': 'Meera', 'age': '27', 'sex': 'Female'},\n",
        "          2: {'name': 'Mahesh', 'age': '22', 'sex': 'Male'}}\n",
        "\n",
        "#created the looping factor\n",
        "x = len(people)+1\n",
        "\n",
        "#iterated the loop for printing the each element\n",
        "for i in range(1,x):\n",
        "  print(\"Name: \"+ people[i]['name']+\" Age: \"+ people[i]['age']+\" Sex: \"+ people[i]['sex'])\n",
        "  "
      ],
      "metadata": {
        "colab": {
          "base_uri": "https://localhost:8080/"
        },
        "id": "fdzNPOK_4XWS",
        "outputId": "90cc3172-0da3-446e-ed92-b089c5074c39"
      },
      "execution_count": null,
      "outputs": [
        {
          "output_type": "stream",
          "name": "stdout",
          "text": [
            "Name: Meera Age: 27 Sex: Female\n",
            "Name: Mahesh Age: 22 Sex: Male\n"
          ]
        }
      ]
    },
    {
      "cell_type": "markdown",
      "source": [
        "2. **Write a python code to insert an element from the nested list.**\n",
        "3. **Write a python code to delete an element from the nested list.**"
      ],
      "metadata": {
        "id": "Lpzeauyi79T_"
      }
    },
    {
      "cell_type": "code",
      "source": [
        "#created the dictionary\n",
        "people = {1: {'name': 'Meera', 'age': '27', 'sex': 'Female'},\n",
        "          2: {'name': 'Mahesh', 'age': '22', 'sex': 'Male'}}\n",
        "\n",
        "#created the looping factor\n",
        "x = len(people) + 3\n",
        "\n",
        "#adding the new 2 records into the dictionary (INSERT PORTION)\n",
        "people[3] = {}\n",
        "\n",
        "people[3]['name'] = 'Darshan'\n",
        "people[3]['age'] = '20'\n",
        "people[3]['sex'] = 'Male'\n",
        "\n",
        "people[4] = {}\n",
        "\n",
        "people[4]['name'] = 'Virat'\n",
        "people[4]['age'] = '33'\n",
        "people[4]['sex'] = 'Male'\n",
        "\n",
        "#iterated the loop for printing the each element\n",
        "print(\"Dictionary after adding another elements: \")\n",
        "for i in range(1,x):\n",
        "  print(\"Name: \"+ people[i]['name']+\" Age: \"+ people[i]['age']+\" Sex: \"+ people[i]['sex'])\n",
        "\n",
        "del people[4]['name']\n",
        "del people[4]['age'] \n",
        "del people[4]['sex']\n",
        "\n",
        "#created the looping factor\n",
        "x = x - 1\n",
        "\n",
        "#iterated the loop for printing the each element\n",
        "print(\"Dictionary after deleting elements: \")\n",
        "for i in range(1,x):\n",
        "  print(\"Name: \"+ people[i]['name']+\" Age: \"+ people[i]['age']+\" Sex: \"+ people[i]['sex'])"
      ],
      "metadata": {
        "colab": {
          "base_uri": "https://localhost:8080/"
        },
        "id": "kbX6nE1v8aSI",
        "outputId": "54b474ae-b486-4642-b728-7e1efb8b8638"
      },
      "execution_count": null,
      "outputs": [
        {
          "output_type": "stream",
          "name": "stdout",
          "text": [
            "Dictionary after adding another elements: \n",
            "Name: Meera Age: 27 Sex: Female\n",
            "Name: Mahesh Age: 22 Sex: Male\n",
            "Name: Darshan Age: 20 Sex: Male\n",
            "Name: Virat Age: 33 Sex: Male\n",
            "Dictionary after deleting elements: \n",
            "Name: Meera Age: 27 Sex: Female\n",
            "Name: Mahesh Age: 22 Sex: Male\n",
            "Name: Darshan Age: 20 Sex: Male\n"
          ]
        }
      ]
    },
    {
      "cell_type": "markdown",
      "source": [
        "4. **Write a python code to iterate through a nested dictionary given below.**"
      ],
      "metadata": {
        "id": "Lkd_wBmn_yxP"
      }
    },
    {
      "cell_type": "code",
      "source": [
        "#creating the dictionary\n",
        "people = {1: {'Name': 'John', 'Age': '27', 'Sex': 'Male'},\n",
        "          2: {'Name': 'Marie', 'Age': '22', 'Sex': 'Female'}}\n",
        "\n",
        "#iterating through the dictionary using the key of p_id and p_info\n",
        "for p_id, p_info in people.items():\n",
        "    print(\"\\nPerson ID:\", p_id)\n",
        "    \n",
        "    for key in p_info:\n",
        "        print(key + ':', p_info[key])\n"
      ],
      "metadata": {
        "colab": {
          "base_uri": "https://localhost:8080/"
        },
        "id": "-moAPoFP_3kv",
        "outputId": "ba542fd2-3f81-4462-9f62-8c45b9f9f726"
      },
      "execution_count": null,
      "outputs": [
        {
          "output_type": "stream",
          "name": "stdout",
          "text": [
            "\n",
            "Person ID: 1\n",
            "Name: John\n",
            "Age: 27\n",
            "Sex: Male\n",
            "\n",
            "Person ID: 2\n",
            "Name: Marie\n",
            "Age: 22\n",
            "Sex: Female\n"
          ]
        }
      ]
    },
    {
      "cell_type": "markdown",
      "source": [
        "5. **Write a function to merge two nested dictionaries given below.**"
      ],
      "metadata": {
        "id": "cwfYh8cDA4GU"
      }
    },
    {
      "cell_type": "code",
      "source": [
        "#creating the both dictionary as per the asked in the question\n",
        "D1 = {'emp1': {'name': 'Bina', 'job': 'Manager'},\n",
        "'emp2': {'name': 'Krina', 'job': 'Developer'}}\n",
        "\n",
        "D2 = {'emp3': {'name': 'Sonit', 'job': 'Developer'},\n",
        "'emp4': {'name': 'Mala', 'job': 'Receptionist'}}\n",
        "\n",
        "#creating the function to merge both dictionary\n",
        "def merge(dict1,dict2):\n",
        "  return(dict2.update(dict1))\n",
        "\n",
        "#calling the user defined function\n",
        "merge(D2,D1)\n",
        "\n",
        "#iterating through the dictionary using the key of p_id and p_info\n",
        "for p_id, p_info in D1.items():\n",
        "    print(\"\\nPerson ID:\", p_id)\n",
        "    \n",
        "    for key in p_info:\n",
        "        print(key + ':', p_info[key])"
      ],
      "metadata": {
        "colab": {
          "base_uri": "https://localhost:8080/"
        },
        "id": "Daibk5w4A-zf",
        "outputId": "dcf3289e-b223-46d5-eefb-15a574f4a83e"
      },
      "execution_count": 1,
      "outputs": [
        {
          "output_type": "stream",
          "name": "stdout",
          "text": [
            "\n",
            "Person ID: emp1\n",
            "name: Bina\n",
            "job: Manager\n",
            "\n",
            "Person ID: emp2\n",
            "name: Krina\n",
            "job: Developer\n",
            "\n",
            "Person ID: emp3\n",
            "name: Sonit\n",
            "job: Developer\n",
            "\n",
            "Person ID: emp4\n",
            "name: Mala\n",
            "job: Receptionist\n"
          ]
        }
      ]
    }
  ]
}